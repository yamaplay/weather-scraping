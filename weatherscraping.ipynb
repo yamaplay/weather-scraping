{
 "cells": [
  {
   "cell_type": "markdown",
   "id": "4fe6a915-7ab6-4e6a-bfdd-39dd9ba4b2dc",
   "metadata": {},
   "source": [
    "札幌、秋田、新潟、東京、大阪、広島、高知、熊本、那覇"
   ]
  },
  {
   "cell_type": "markdown",
   "id": "dbc6ca5a-eb2a-44e8-ac3f-32b4c3d1a0ba",
   "metadata": {},
   "source": [
    "place_codeA　[14, 32, 54, 44, 62, 67, 74, 86, 91]"
   ]
  },
  {
   "cell_type": "markdown",
   "id": "e7bfafbc-eef2-4184-9efe-83f4de589c75",
   "metadata": {},
   "source": [
    "place_codeB [47412, 47582, 47604, 47662, 47772, 47765, 47893, 47819, 47936]"
   ]
  },
  {
   "cell_type": "code",
   "execution_count": 38,
   "id": "611b7eda-762c-43a2-a1d7-5dbdfd70d7fa",
   "metadata": {},
   "outputs": [],
   "source": [
    "place_name = [\"札幌\", \"秋田\", \"新潟\", \"東京\", \"大阪\", \"広島\", \"高知\", \"熊本\", \"那覇\"]\n",
    "\n",
    "place_codeA = [14, 32, 54, 44, 62, 67, 74, 86, 91]\n",
    "\n",
    "place_codeB = [47412, 47582, 47604, 47662, 47772, 47765, 47893, 47819, 47936]\n",
    "\n",
    "import requests\n",
    "from bs4 import BeautifulSoup\n",
    "import csv\n",
    "\n",
    "base_url = \"http://www.data.jma.go.jp/obd/stats/etrn/view/annually_s.php?prec_no=%s&block_no=%s&year=2021&month=1&day=1&view=p1\""
   ]
  },
  {
   "cell_type": "code",
   "execution_count": 39,
   "id": "aa438403-294f-4dda-9d08-aa0a55cbbe2b",
   "metadata": {},
   "outputs": [],
   "source": [
    "def str2float(str):\n",
    "  try:\n",
    "    return float(str)\n",
    "  except:\n",
    "    return 0.0"
   ]
  },
  {
   "cell_type": "code",
   "execution_count": 41,
   "id": "0eff7a42-dcae-476f-ac1e-86b7c03cc067",
   "metadata": {},
   "outputs": [
    {
     "name": "stdout",
     "output_type": "stream",
     "text": [
      "札幌\n",
      "秋田\n",
      "新潟\n",
      "東京\n",
      "大阪\n",
      "広島\n",
      "高知\n",
      "熊本\n",
      "那覇\n"
     ]
    }
   ],
   "source": [
    "if __name__ == \"__main__\":\n",
    "\n",
    "    for place in place_name:\n",
    "        All_list = [['年', '陸の平均気圧(hPa)', '海の平均気圧(hPa)', '降水量(mm)', '平均気温(℃)','最高気温(℃)', '最低気温(℃)', '平均湿度(%)']]\n",
    "        print(place)\n",
    "        index = place_name.index(place)\n",
    "        \n",
    "        r = requests.get(base_url%(place_codeA[index], place_codeB[index]))\n",
    "        r.encoding = r.apparent_encoding\n",
    "    \n",
    "        soup = BeautifulSoup(r.text)\n",
    "    \n",
    "        rows = soup.findAll('tr',class_='mtx')\n",
    "        rows = rows[3:]\n",
    "    \n",
    "        for row in rows:\n",
    "            data = row.findAll('td')\n",
    "            rowData = []\n",
    "            rowData.append(str(data[0].string))\n",
    "            rowData.append(str2float(data[1].string))\n",
    "            rowData.append(str2float(data[2].string))\n",
    "            rowData.append(str2float(data[3].string))\n",
    "            rowData.append(str2float(data[7].string))\n",
    "            rowData.append(str2float(data[10].string))\n",
    "            rowData.append(str2float(data[11].string))\n",
    "            rowData.append(str2float(data[12].string))\n",
    "            All_list.append(rowData)\n",
    "\n",
    "        with open(place + '.csv', 'w') as file:\n",
    "            writer = csv.writer(file, lineterminator='\\n')\n",
    "            writer.writerows(All_list)"
   ]
  }
 ],
 "metadata": {
  "kernelspec": {
   "display_name": "Python 3 (ipykernel)",
   "language": "python",
   "name": "python3"
  },
  "language_info": {
   "codemirror_mode": {
    "name": "ipython",
    "version": 3
   },
   "file_extension": ".py",
   "mimetype": "text/x-python",
   "name": "python",
   "nbconvert_exporter": "python",
   "pygments_lexer": "ipython3",
   "version": "3.8.12"
  }
 },
 "nbformat": 4,
 "nbformat_minor": 5
}
