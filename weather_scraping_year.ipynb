{
 "cells": [
  {
   "cell_type": "code",
   "execution_count": 1,
   "id": "a23f204f-190c-4235-9c93-db0b28d848bb",
   "metadata": {},
   "outputs": [
    {
     "name": "stdout",
     "output_type": "stream",
     "text": [
      "札幌\n",
      "147\n",
      "秋田\n",
      "141\n",
      "新潟\n",
      "142\n",
      "東京\n",
      "148\n",
      "大阪\n",
      "140\n",
      "広島\n",
      "144\n",
      "高知\n",
      "137\n",
      "熊本\n",
      "133\n",
      "那覇\n",
      "133\n"
     ]
    }
   ],
   "source": [
    "place_name = [\"札幌\", \"秋田\", \"新潟\", \"東京\", \"大阪\", \"広島\", \"高知\", \"熊本\", \"那覇\"]\n",
    "\n",
    "place_codeA = [14, 32, 54, 44, 62, 67, 74, 86, 91]\n",
    "\n",
    "place_codeB = [47412, 47582, 47604, 47662, 47772, 47765, 47893, 47819, 47936]\n",
    "\n",
    "import requests\n",
    "from bs4 import BeautifulSoup\n",
    "import csv\n",
    "\n",
    "base_url = \"http://www.data.jma.go.jp/obd/stats/etrn/view/annually_s.php?prec_no=%s&block_no=%s&year=2021&month=1&day=1&view=p1\"\n",
    "\n",
    "def str2float(str):\n",
    "  try:\n",
    "    return float(str)\n",
    "  except:\n",
    "    return 0.0\n",
    "\n",
    "if __name__ == \"__main__\":\n",
    "\n",
    "    for place in place_name:\n",
    "        All_list = [['年', '陸の平均気圧(hPa)', '海の平均気圧(hPa)', '降水量(mm)', '平均気温(℃)','最高気温(℃)', '最低気温(℃)', '平均湿度(%)']]\n",
    "        print(place)\n",
    "        index = place_name.index(place)\n",
    "\n",
    "        r = requests.get(base_url%(place_codeA[index], place_codeB[index]))\n",
    "        r.encoding = r.apparent_encoding\n",
    "\n",
    "        soup = BeautifulSoup(r.text)\n",
    "\n",
    "        rows = soup.findAll('tr', class_='mtx2')\n",
    "        print(len(rows))\n",
    "        # rows = rows[3:]\n",
    "\n",
    "        for row in rows:\n",
    "            data = row.findAll('td')\n",
    "            rowData = []\n",
    "            rowData.append(str(data[0].string))\n",
    "            rowData.append(str2float(data[1].string))\n",
    "            rowData.append(str2float(data[2].string))\n",
    "            rowData.append(str2float(data[3].string))\n",
    "            rowData.append(str2float(data[7].string))\n",
    "            rowData.append(str2float(data[10].string))\n",
    "            rowData.append(str2float(data[11].string))\n",
    "            rowData.append(str2float(data[12].string))\n",
    "            All_list.append(rowData)\n",
    "\n",
    "        with open(place + '.csv', 'w') as file:\n",
    "            writer = csv.writer(file, lineterminator='\\n')\n",
    "            writer.writerows(All_list)"
   ]
  },
  {
   "cell_type": "code",
   "execution_count": null,
   "id": "2966cf80-e03f-4383-a4b0-419d3f8ac0b7",
   "metadata": {},
   "outputs": [],
   "source": []
  }
 ],
 "metadata": {
  "kernelspec": {
   "display_name": "Python 3 (ipykernel)",
   "language": "python",
   "name": "python3"
  },
  "language_info": {
   "codemirror_mode": {
    "name": "ipython",
    "version": 3
   },
   "file_extension": ".py",
   "mimetype": "text/x-python",
   "name": "python",
   "nbconvert_exporter": "python",
   "pygments_lexer": "ipython3",
   "version": "3.8.12"
  }
 },
 "nbformat": 4,
 "nbformat_minor": 5
}
